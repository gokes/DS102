{
 "cells": [
  {
   "cell_type": "markdown",
   "metadata": {},
   "source": [
    "# Rajendran_Gokul_DS102 Project"
   ]
  },
  {
   "cell_type": "markdown",
   "metadata": {},
   "source": [
    "Importing the necessary libraries "
   ]
  },
  {
   "cell_type": "code",
   "execution_count": 2,
   "metadata": {},
   "outputs": [],
   "source": [
    "import pandas as pd\n",
    "import numpy as np\n",
    "import matplotlib.pyplot as plt\n",
    "import seaborn as sns"
   ]
  },
  {
   "cell_type": "markdown",
   "metadata": {},
   "source": [
    "I would want to read in the datasets and find what I'm dealing with and get the relevant info"
   ]
  },
  {
   "cell_type": "code",
   "execution_count": 3,
   "metadata": {
    "scrolled": true
   },
   "outputs": [
    {
     "name": "stderr",
     "output_type": "stream",
     "text": [
      "/anaconda3/lib/python3.7/site-packages/IPython/core/interactiveshell.py:2785: DtypeWarning: Columns (25) have mixed types. Specify dtype option on import or set low_memory=False.\n",
      "  interactivity=interactivity, compiler=compiler, result=result)\n",
      "/anaconda3/lib/python3.7/site-packages/IPython/core/interactiveshell.py:2785: DtypeWarning: Columns (0,2,8,10,21,23,24,25,26,27,28,44,56,64,83,85,87,107,109,123,125,150,157,172,174,194,210,218,219,223,246,249,262,264,276,277,278,279,280,281,282,283,284,285,286,287,288,289,290,304,306,325,326,329,341,368,371,384,385,389,390,391,393,394) have mixed types. Specify dtype option on import or set low_memory=False.\n",
      "  interactivity=interactivity, compiler=compiler, result=result)\n"
     ]
    }
   ],
   "source": [
    "free_response_df = pd.read_csv('freeFormResponses.csv')\n",
    "#free_response_df.head()\n",
    "#free_response_df.info()\n",
    "\n",
    "mc_response_df = pd.read_csv('multipleChoiceResponses.csv')\n",
    "#mc_response_df.head()\n",
    "#mc_response_df.info()\n",
    "#mc_response_df.describe()\n",
    "\n",
    "survey_df = pd.read_csv('SurveySchema.csv')\n",
    "#survey_df.head()\n",
    "#survey_df.info()\n",
    "#survey_df.describe()"
   ]
  },
  {
   "cell_type": "markdown",
   "metadata": {},
   "source": [
    "Looking at the data in a table form based on the questions as rows and ans as columns"
   ]
  },
  {
   "cell_type": "code",
   "execution_count": 4,
   "metadata": {},
   "outputs": [
    {
     "data": {
      "text/html": [
       "<div>\n",
       "<style scoped>\n",
       "    .dataframe tbody tr th:only-of-type {\n",
       "        vertical-align: middle;\n",
       "    }\n",
       "\n",
       "    .dataframe tbody tr th {\n",
       "        vertical-align: top;\n",
       "    }\n",
       "\n",
       "    .dataframe thead th {\n",
       "        text-align: right;\n",
       "    }\n",
       "</style>\n",
       "<table border=\"1\" class=\"dataframe\">\n",
       "  <thead>\n",
       "    <tr style=\"text-align: right;\">\n",
       "      <th></th>\n",
       "      <th>0</th>\n",
       "    </tr>\n",
       "  </thead>\n",
       "  <tbody>\n",
       "    <tr>\n",
       "      <th>Time from Start to Finish (seconds)</th>\n",
       "      <td>Duration (in seconds)</td>\n",
       "    </tr>\n",
       "    <tr>\n",
       "      <th>Q1</th>\n",
       "      <td>What is your gender? - Selected Choice</td>\n",
       "    </tr>\n",
       "    <tr>\n",
       "      <th>Q1_OTHER_TEXT</th>\n",
       "      <td>What is your gender? - Prefer to self-describe...</td>\n",
       "    </tr>\n",
       "    <tr>\n",
       "      <th>Q2</th>\n",
       "      <td>What is your age (# years)?</td>\n",
       "    </tr>\n",
       "    <tr>\n",
       "      <th>Q3</th>\n",
       "      <td>In which country do you currently reside?</td>\n",
       "    </tr>\n",
       "  </tbody>\n",
       "</table>\n",
       "</div>"
      ],
      "text/plain": [
       "                                                                                     0\n",
       "Time from Start to Finish (seconds)                              Duration (in seconds)\n",
       "Q1                                              What is your gender? - Selected Choice\n",
       "Q1_OTHER_TEXT                        What is your gender? - Prefer to self-describe...\n",
       "Q2                                                         What is your age (# years)?\n",
       "Q3                                           In which country do you currently reside?"
      ]
     },
     "execution_count": 4,
     "metadata": {},
     "output_type": "execute_result"
    }
   ],
   "source": [
    "mc_response_df.iloc[:1].transpose().head()"
   ]
  },
  {
   "cell_type": "markdown",
   "metadata": {},
   "source": [
    "Clean by droping empty cells,groupby(language),count and melt it based the type of languages these people stated in qn 16 in the survey"
   ]
  },
  {
   "cell_type": "code",
   "execution_count": 6,
   "metadata": {},
   "outputs": [
    {
     "name": "stdout",
     "output_type": "stream",
     "text": [
      "      Q16_Part_1 Q16_Part_2 Q16_Part_3 Q16_Part_4 Q16_Part_5  \\\n",
      "1            NaN        NaN        NaN        NaN        NaN   \n",
      "2            NaN        NaN        SQL        NaN        NaN   \n",
      "3            NaN          R        NaN        NaN       Java   \n",
      "4         Python          R        SQL       Bash        NaN   \n",
      "5            NaN        NaN        SQL        NaN       Java   \n",
      "6         Python        NaN        NaN       Bash        NaN   \n",
      "7            NaN          R        NaN        NaN        NaN   \n",
      "8         Python        NaN        NaN        NaN        NaN   \n",
      "9         Python        NaN        NaN        NaN        NaN   \n",
      "10        Python        NaN        SQL        NaN       Java   \n",
      "11        Python          R        SQL        NaN        NaN   \n",
      "12        Python        NaN        SQL        NaN       Java   \n",
      "13        Python          R        SQL       Bash        NaN   \n",
      "14        Python          R        SQL       Bash        NaN   \n",
      "15        Python          R        SQL        NaN        NaN   \n",
      "16        Python        NaN        NaN        NaN        NaN   \n",
      "17           NaN          R        NaN        NaN        NaN   \n",
      "18        Python        NaN        NaN        NaN        NaN   \n",
      "19        Python        NaN        SQL        NaN        NaN   \n",
      "20        Python        NaN        NaN       Bash        NaN   \n",
      "21           NaN          R        SQL        NaN        NaN   \n",
      "22        Python        NaN        NaN        NaN        NaN   \n",
      "23        Python          R        SQL        NaN        NaN   \n",
      "24        Python        NaN        NaN        NaN        NaN   \n",
      "25        Python          R        NaN        NaN        NaN   \n",
      "26        Python        NaN        NaN        NaN        NaN   \n",
      "27        Python          R        SQL        NaN        NaN   \n",
      "28        Python          R        SQL        NaN        NaN   \n",
      "29           NaN        NaN        SQL        NaN        NaN   \n",
      "30        Python        NaN        NaN        NaN        NaN   \n",
      "...          ...        ...        ...        ...        ...   \n",
      "23830        NaN        NaN        NaN        NaN        NaN   \n",
      "23831        NaN        NaN        NaN        NaN        NaN   \n",
      "23832        NaN        NaN        NaN        NaN        NaN   \n",
      "23833     Python        NaN        SQL        NaN        NaN   \n",
      "23834     Python          R        NaN        NaN       Java   \n",
      "23835     Python        NaN        SQL        NaN       Java   \n",
      "23836        NaN        NaN        NaN        NaN        NaN   \n",
      "23837        NaN        NaN        NaN        NaN        NaN   \n",
      "23838        NaN        NaN        NaN        NaN        NaN   \n",
      "23839        NaN        NaN        NaN        NaN        NaN   \n",
      "23840        NaN        NaN        SQL        NaN        NaN   \n",
      "23841     Python        NaN        NaN        NaN        NaN   \n",
      "23842     Python        NaN        SQL        NaN       Java   \n",
      "23843     Python          R        SQL        NaN        NaN   \n",
      "23844     Python        NaN        SQL       Bash       Java   \n",
      "23845        NaN        NaN        NaN        NaN        NaN   \n",
      "23846        NaN        NaN        NaN        NaN        NaN   \n",
      "23847     Python          R        SQL        NaN        NaN   \n",
      "23848        NaN        NaN        NaN        NaN        NaN   \n",
      "23849        NaN        NaN        NaN        NaN        NaN   \n",
      "23850     Python          R        SQL        NaN        NaN   \n",
      "23851     Python        NaN        SQL        NaN       Java   \n",
      "23852        NaN        NaN        NaN        NaN        NaN   \n",
      "23853        NaN        NaN        NaN        NaN        NaN   \n",
      "23854        NaN        NaN        NaN        NaN        NaN   \n",
      "23855     Python          R        SQL       Bash        NaN   \n",
      "23856        NaN        NaN        NaN        NaN        NaN   \n",
      "23857        NaN        NaN        NaN        NaN        NaN   \n",
      "23858        NaN        NaN        NaN        NaN        NaN   \n",
      "23859        NaN        NaN        NaN        NaN        NaN   \n",
      "\n",
      "                  Q16_Part_6        Q16_Part_7 Q16_Part_8 Q16_Part_9  \\\n",
      "1                        NaN               NaN        NaN        NaN   \n",
      "2                        NaN               NaN        NaN        NaN   \n",
      "3                        NaN               NaN        NaN     MATLAB   \n",
      "4      Javascript/Typescript               NaN        NaN        NaN   \n",
      "5                        NaN               NaN        NaN        NaN   \n",
      "6      Javascript/Typescript               NaN      C/C++        NaN   \n",
      "7                        NaN               NaN        NaN        NaN   \n",
      "8                        NaN               NaN        NaN        NaN   \n",
      "9                        NaN               NaN        NaN        NaN   \n",
      "10     Javascript/Typescript               NaN        NaN        NaN   \n",
      "11                       NaN               NaN        NaN        NaN   \n",
      "12                       NaN               NaN        NaN        NaN   \n",
      "13                       NaN               NaN        NaN     MATLAB   \n",
      "14                       NaN               NaN        NaN        NaN   \n",
      "15                       NaN               NaN        NaN        NaN   \n",
      "16                       NaN               NaN        NaN        NaN   \n",
      "17                       NaN  Visual Basic/VBA        NaN        NaN   \n",
      "18                       NaN               NaN        NaN        NaN   \n",
      "19                       NaN  Visual Basic/VBA        NaN        NaN   \n",
      "20                       NaN               NaN        NaN        NaN   \n",
      "21                       NaN               NaN        NaN        NaN   \n",
      "22                       NaN               NaN        NaN        NaN   \n",
      "23                       NaN               NaN        NaN        NaN   \n",
      "24                       NaN               NaN        NaN     MATLAB   \n",
      "25                       NaN               NaN        NaN        NaN   \n",
      "26                       NaN               NaN      C/C++     MATLAB   \n",
      "27                       NaN               NaN        NaN        NaN   \n",
      "28                       NaN               NaN        NaN        NaN   \n",
      "29                       NaN               NaN        NaN        NaN   \n",
      "30                       NaN               NaN        NaN        NaN   \n",
      "...                      ...               ...        ...        ...   \n",
      "23830                    NaN               NaN        NaN        NaN   \n",
      "23831                    NaN               NaN        NaN        NaN   \n",
      "23832                    NaN               NaN        NaN        NaN   \n",
      "23833                    NaN               NaN        NaN        NaN   \n",
      "23834                    NaN               NaN      C/C++        NaN   \n",
      "23835  Javascript/Typescript  Visual Basic/VBA        NaN     MATLAB   \n",
      "23836                    NaN               NaN        NaN        NaN   \n",
      "23837                    NaN               NaN        NaN        NaN   \n",
      "23838                    NaN               NaN        NaN        NaN   \n",
      "23839                    NaN               NaN        NaN        NaN   \n",
      "23840                    NaN  Visual Basic/VBA        NaN        NaN   \n",
      "23841                    NaN               NaN        NaN     MATLAB   \n",
      "23842                    NaN               NaN      C/C++        NaN   \n",
      "23843                    NaN               NaN        NaN        NaN   \n",
      "23844  Javascript/Typescript               NaN        NaN        NaN   \n",
      "23845                    NaN               NaN        NaN        NaN   \n",
      "23846                    NaN               NaN        NaN        NaN   \n",
      "23847                    NaN               NaN      C/C++     MATLAB   \n",
      "23848                    NaN               NaN        NaN        NaN   \n",
      "23849                    NaN               NaN        NaN        NaN   \n",
      "23850                    NaN               NaN      C/C++     MATLAB   \n",
      "23851  Javascript/Typescript  Visual Basic/VBA      C/C++     MATLAB   \n",
      "23852                    NaN               NaN        NaN        NaN   \n",
      "23853                    NaN               NaN        NaN        NaN   \n",
      "23854                    NaN               NaN        NaN        NaN   \n",
      "23855  Javascript/Typescript               NaN      C/C++     MATLAB   \n",
      "23856                    NaN               NaN        NaN        NaN   \n",
      "23857                    NaN               NaN        NaN        NaN   \n",
      "23858                    NaN               NaN        NaN        NaN   \n",
      "23859                    NaN               NaN        NaN        NaN   \n",
      "\n",
      "      Q16_Part_10 Q16_Part_11 Q16_Part_12 Q16_Part_13 Q16_Part_14 Q16_Part_15  \\\n",
      "1             NaN         NaN         NaN         NaN         NaN         NaN   \n",
      "2             NaN         NaN         NaN         NaN         NaN         NaN   \n",
      "3             NaN         NaN         NaN         NaN         NaN         NaN   \n",
      "4             NaN         NaN         NaN         NaN         NaN         NaN   \n",
      "5             NaN         NaN         NaN         NaN         NaN         NaN   \n",
      "6             NaN         NaN          Go         NaN         NaN         NaN   \n",
      "7             NaN         NaN         NaN         NaN         NaN         NaN   \n",
      "8             NaN         NaN         NaN         NaN         NaN         NaN   \n",
      "9             NaN         NaN         NaN     C#/.NET         NaN         NaN   \n",
      "10            NaN         NaN         NaN     C#/.NET         NaN         NaN   \n",
      "11            NaN         NaN         NaN         NaN         NaN         NaN   \n",
      "12            NaN         NaN         NaN     C#/.NET         NaN         NaN   \n",
      "13            NaN         NaN         NaN         NaN         NaN         NaN   \n",
      "14            NaN         NaN         NaN     C#/.NET         NaN         NaN   \n",
      "15            NaN         NaN         NaN         NaN         NaN         NaN   \n",
      "16            NaN         NaN         NaN         NaN         NaN         NaN   \n",
      "17            NaN         NaN         NaN         NaN         NaN         NaN   \n",
      "18            NaN         NaN         NaN         NaN         NaN         NaN   \n",
      "19          Scala         NaN         NaN         NaN         PHP         NaN   \n",
      "20            NaN         NaN         NaN         NaN         NaN         NaN   \n",
      "21            NaN         NaN         NaN         NaN         NaN         NaN   \n",
      "22            NaN         NaN         NaN         NaN         NaN         NaN   \n",
      "23            NaN         NaN         NaN         NaN         NaN         NaN   \n",
      "24            NaN         NaN         NaN         NaN         NaN         NaN   \n",
      "25            NaN         NaN         NaN         NaN         NaN         NaN   \n",
      "26            NaN         NaN         NaN         NaN         NaN         NaN   \n",
      "27            NaN         NaN         NaN         NaN         NaN         NaN   \n",
      "28            NaN         NaN         NaN         NaN         NaN         NaN   \n",
      "29            NaN         NaN         NaN         NaN         NaN         NaN   \n",
      "30            NaN         NaN         NaN         NaN         NaN         NaN   \n",
      "...           ...         ...         ...         ...         ...         ...   \n",
      "23830         NaN         NaN         NaN         NaN         NaN         NaN   \n",
      "23831         NaN         NaN         NaN         NaN         NaN         NaN   \n",
      "23832         NaN         NaN         NaN         NaN         NaN         NaN   \n",
      "23833         NaN         NaN         NaN     C#/.NET         NaN         NaN   \n",
      "23834         NaN         NaN         NaN         NaN         NaN         NaN   \n",
      "23835         NaN         NaN         NaN     C#/.NET         NaN         NaN   \n",
      "23836         NaN         NaN         NaN         NaN         NaN         NaN   \n",
      "23837         NaN         NaN         NaN         NaN         NaN         NaN   \n",
      "23838         NaN         NaN         NaN         NaN         NaN         NaN   \n",
      "23839         NaN         NaN         NaN         NaN         NaN         NaN   \n",
      "23840         NaN         NaN         NaN     C#/.NET         NaN         NaN   \n",
      "23841         NaN         NaN         NaN         NaN         NaN         NaN   \n",
      "23842         NaN         NaN         NaN         NaN         NaN         NaN   \n",
      "23843         NaN         NaN         NaN         NaN         NaN         NaN   \n",
      "23844       Scala         NaN         NaN         NaN         NaN         NaN   \n",
      "23845         NaN         NaN         NaN         NaN         NaN         NaN   \n",
      "23846         NaN         NaN         NaN         NaN         NaN         NaN   \n",
      "23847         NaN         NaN         NaN     C#/.NET         NaN         NaN   \n",
      "23848         NaN         NaN         NaN         NaN         NaN         NaN   \n",
      "23849         NaN         NaN         NaN         NaN         NaN         NaN   \n",
      "23850         NaN         NaN         NaN         NaN         PHP         NaN   \n",
      "23851         NaN         NaN         NaN     C#/.NET         NaN         NaN   \n",
      "23852         NaN         NaN         NaN         NaN         NaN         NaN   \n",
      "23853         NaN         NaN         NaN         NaN         NaN         NaN   \n",
      "23854         NaN         NaN         NaN         NaN         NaN         NaN   \n",
      "23855         NaN         NaN         NaN         NaN         NaN         NaN   \n",
      "23856         NaN         NaN         NaN         NaN         NaN         NaN   \n",
      "23857         NaN         NaN         NaN         NaN         NaN         NaN   \n",
      "23858         NaN         NaN         NaN         NaN         NaN         NaN   \n",
      "23859         NaN         NaN         NaN         NaN         NaN         NaN   \n",
      "\n",
      "      Q16_Part_16 Q16_Part_17 Q16_Part_18  \n",
      "1             NaN        None         NaN  \n",
      "2             NaN         NaN         NaN  \n",
      "3             NaN         NaN         NaN  \n",
      "4             NaN         NaN         NaN  \n",
      "5             NaN         NaN         NaN  \n",
      "6             NaN         NaN         NaN  \n",
      "7             NaN         NaN         NaN  \n",
      "8             NaN         NaN         NaN  \n",
      "9             NaN         NaN         NaN  \n",
      "10            NaN         NaN         NaN  \n",
      "11            NaN         NaN         NaN  \n",
      "12            NaN         NaN         NaN  \n",
      "13            NaN         NaN         NaN  \n",
      "14            NaN         NaN         NaN  \n",
      "15            NaN         NaN         NaN  \n",
      "16            NaN         NaN         NaN  \n",
      "17            NaN         NaN         NaN  \n",
      "18            NaN         NaN         NaN  \n",
      "19            NaN         NaN         NaN  \n",
      "20            NaN         NaN         NaN  \n",
      "21            NaN         NaN         NaN  \n",
      "22            NaN         NaN         NaN  \n",
      "23            NaN         NaN         NaN  \n",
      "24            NaN         NaN         NaN  \n",
      "25            NaN         NaN         NaN  \n",
      "26            NaN         NaN         NaN  \n",
      "27            NaN         NaN         NaN  \n",
      "28            NaN         NaN         NaN  \n",
      "29            NaN         NaN         NaN  \n",
      "30            NaN         NaN         NaN  \n",
      "...           ...         ...         ...  \n",
      "23830         NaN         NaN         NaN  \n",
      "23831         NaN         NaN         NaN  \n",
      "23832         NaN         NaN         NaN  \n",
      "23833         NaN         NaN         NaN  \n",
      "23834         NaN         NaN         NaN  \n",
      "23835         NaN         NaN         NaN  \n",
      "23836         NaN        None         NaN  \n",
      "23837         NaN         NaN         NaN  \n",
      "23838         NaN         NaN         NaN  \n",
      "23839         NaN         NaN         NaN  \n",
      "23840         NaN         NaN         NaN  \n",
      "23841         NaN         NaN         NaN  \n",
      "23842         NaN         NaN         NaN  \n",
      "23843         NaN         NaN         NaN  \n",
      "23844         NaN         NaN         NaN  \n",
      "23845         NaN         NaN         NaN  \n",
      "23846         NaN         NaN         NaN  \n",
      "23847         NaN         NaN         NaN  \n",
      "23848         NaN         NaN         NaN  \n",
      "23849         NaN         NaN         NaN  \n",
      "23850         NaN         NaN         NaN  \n",
      "23851         NaN         NaN         NaN  \n",
      "23852         NaN         NaN         NaN  \n",
      "23853         NaN         NaN         NaN  \n",
      "23854         NaN         NaN         NaN  \n",
      "23855         NaN         NaN         NaN  \n",
      "23856         NaN         NaN         NaN  \n",
      "23857         NaN         NaN         NaN  \n",
      "23858         NaN         NaN         NaN  \n",
      "23859         NaN         NaN         NaN  \n",
      "\n",
      "[23859 rows x 18 columns]\n"
     ]
    }
   ],
   "source": [
    "column_names = [\"Q16_Part_\" + str(x) for x in range(1, 19)]\n",
    "\n",
    "qn_16 = mc_response_df[column_names]\n",
    "print(qn_16.iloc[1:])\n",
    "grouped = pd.melt(qn_16.iloc[1:], var_name=\"Qn Part\", value_name=\"Language\") \\\n",
    "    .dropna() \\\n",
    "    .groupby('Language') \\\n",
    "    .count()\n",
    "\n",
    "#grouped.head()\n"
   ]
  },
  {
   "cell_type": "markdown",
   "metadata": {},
   "source": [
    "Creating a new dataframe based on genders in qn1 of the survey"
   ]
  },
  {
   "cell_type": "code",
   "execution_count": 7,
   "metadata": {
    "scrolled": true
   },
   "outputs": [
    {
     "data": {
      "text/html": [
       "<div>\n",
       "<style scoped>\n",
       "    .dataframe tbody tr th:only-of-type {\n",
       "        vertical-align: middle;\n",
       "    }\n",
       "\n",
       "    .dataframe tbody tr th {\n",
       "        vertical-align: top;\n",
       "    }\n",
       "\n",
       "    .dataframe thead th {\n",
       "        text-align: right;\n",
       "    }\n",
       "</style>\n",
       "<table border=\"1\" class=\"dataframe\">\n",
       "  <thead>\n",
       "    <tr style=\"text-align: right;\">\n",
       "      <th></th>\n",
       "      <th>count</th>\n",
       "    </tr>\n",
       "    <tr>\n",
       "      <th>Gender</th>\n",
       "      <th></th>\n",
       "    </tr>\n",
       "  </thead>\n",
       "  <tbody>\n",
       "    <tr>\n",
       "      <th>Female</th>\n",
       "      <td>4010</td>\n",
       "    </tr>\n",
       "    <tr>\n",
       "      <th>Male</th>\n",
       "      <td>19430</td>\n",
       "    </tr>\n",
       "    <tr>\n",
       "      <th>Prefer not to say</th>\n",
       "      <td>340</td>\n",
       "    </tr>\n",
       "    <tr>\n",
       "      <th>Prefer to self-describe</th>\n",
       "      <td>79</td>\n",
       "    </tr>\n",
       "  </tbody>\n",
       "</table>\n",
       "</div>"
      ],
      "text/plain": [
       "                         count\n",
       "Gender                        \n",
       "Female                    4010\n",
       "Male                     19430\n",
       "Prefer not to say          340\n",
       "Prefer to self-describe     79"
      ]
     },
     "execution_count": 7,
     "metadata": {},
     "output_type": "execute_result"
    }
   ],
   "source": [
    "qn_1 = mc_response_df[\"Q1\"].iloc[1:]\n",
    "\n",
    "gender = pd.DataFrame(qn_1)\n",
    "gender = gender.groupby(['Q1'],as_index=False).size()\n",
    "gender = pd.DataFrame(gender, columns = ['count'])\n",
    "gender.index.name = 'Gender'\n",
    "gender\n"
   ]
  },
  {
   "cell_type": "markdown",
   "metadata": {},
   "source": [
    "Problem Statement: How to using various programming lanuages are? What are the trend of based on language,gender, occupation and otherr variables?"
   ]
  },
  {
   "cell_type": "markdown",
   "metadata": {},
   "source": [
    "Firstly , you plot a graph based on the lanuages count and you see that Python is the most popular (by alot) then SQL and R, "
   ]
  },
  {
   "cell_type": "code",
   "execution_count": 8,
   "metadata": {},
   "outputs": [
    {
     "data": {
      "text/plain": [
       "Text(0,0.5,'Total Count')"
      ]
     },
     "execution_count": 8,
     "metadata": {},
     "output_type": "execute_result"
    },
    {
     "data": {
      "image/png": "[encoded data removed]",
      "text/plain": [
       "<Figure size 720x432 with 1 Axes>"
      ]
     },
     "metadata": {},
     "output_type": "display_data"
    }
   ],
   "source": [
    "sns.set()\n",
    "FIG_SIZE = (10, 6)\n",
    "\n",
    "fig, ax = plt.subplots(figsize=FIG_SIZE)\n",
    "\n",
    "grouped.plot(kind='bar',  \n",
    "             ax=ax)\n",
    "\n",
    "ax.set_title('Populairty of languages learnt from the survey')\n",
    "ax.set_ylabel('Total Count')"
   ]
  },
  {
   "cell_type": "markdown",
   "metadata": {},
   "source": [
    "We use to findthis piechart to find out that most of the responses comes from males, hence we do get results skweing towards the male demographic and presence"
   ]
  },
  {
   "cell_type": "code",
   "execution_count": 9,
   "metadata": {},
   "outputs": [
    {
     "data": {
      "image/png": "[encoded data removed]",
      "text/plain": [
       "<Figure size 432x288 with 1 Axes>"
      ]
     },
     "metadata": {},
     "output_type": "display_data"
    }
   ],
   "source": [
    "explode = (0.1, 0, 0, 0)\n",
    "colors = ['gold', 'yellowgreen', 'lightcoral', 'lightskyblue']\n",
    "labels = ['Female','Male','Prefer not to say','Other']\n",
    "\n",
    "plt.pie(gender, explode=explode, labels=labels, colors=colors,\n",
    "        autopct='%1.1f%%', shadow=True, startangle=140)\n",
    " \n",
    "plt.axis('equal')\n",
    "plt.show()"
   ]
  },
  {
   "cell_type": "markdown",
   "metadata": {},
   "source": [
    "Creating a new dataframe with gender, their role, country and level of education by taking relevant questions"
   ]
  },
  {
   "cell_type": "code",
   "execution_count": 10,
   "metadata": {},
   "outputs": [
    {
     "name": "stderr",
     "output_type": "stream",
     "text": [
      "/anaconda3/lib/python3.7/site-packages/ipykernel_launcher.py:12: DeprecationWarning: \n",
      ".ix is deprecated. Please use\n",
      ".loc for label based indexing or\n",
      ".iloc for positional indexing\n",
      "\n",
      "See the documentation here:\n",
      "http://pandas.pydata.org/pandas-docs/stable/indexing.html#ix-indexer-is-deprecated\n",
      "  if sys.path[0] == '':\n"
     ]
    },
    {
     "data": {
      "text/html": [
       "<div>\n",
       "<style scoped>\n",
       "    .dataframe tbody tr th:only-of-type {\n",
       "        vertical-align: middle;\n",
       "    }\n",
       "\n",
       "    .dataframe tbody tr th {\n",
       "        vertical-align: top;\n",
       "    }\n",
       "\n",
       "    .dataframe thead th {\n",
       "        text-align: right;\n",
       "    }\n",
       "</style>\n",
       "<table border=\"1\" class=\"dataframe\">\n",
       "  <thead>\n",
       "    <tr style=\"text-align: right;\">\n",
       "      <th></th>\n",
       "      <th>Gender</th>\n",
       "      <th>Role</th>\n",
       "      <th>Country</th>\n",
       "      <th>Level of education</th>\n",
       "      <th>Age</th>\n",
       "      <th>Experience</th>\n",
       "      <th>Money</th>\n",
       "      <th>Duration</th>\n",
       "    </tr>\n",
       "  </thead>\n",
       "  <tbody>\n",
       "    <tr>\n",
       "      <th>1</th>\n",
       "      <td>Female</td>\n",
       "      <td>Consultant</td>\n",
       "      <td>United States of America</td>\n",
       "      <td>Doctoral degree</td>\n",
       "      <td>45-49</td>\n",
       "      <td>NaN</td>\n",
       "      <td>NaN</td>\n",
       "      <td>710</td>\n",
       "    </tr>\n",
       "    <tr>\n",
       "      <th>2</th>\n",
       "      <td>Male</td>\n",
       "      <td>Other</td>\n",
       "      <td>Indonesia</td>\n",
       "      <td>Bachelor’s degree</td>\n",
       "      <td>30-34</td>\n",
       "      <td>5-10</td>\n",
       "      <td>10-20,000</td>\n",
       "      <td>434</td>\n",
       "    </tr>\n",
       "    <tr>\n",
       "      <th>3</th>\n",
       "      <td>Female</td>\n",
       "      <td>Data Scientist</td>\n",
       "      <td>United States of America</td>\n",
       "      <td>Master’s degree</td>\n",
       "      <td>30-34</td>\n",
       "      <td>0-1</td>\n",
       "      <td>0-10,000</td>\n",
       "      <td>718</td>\n",
       "    </tr>\n",
       "    <tr>\n",
       "      <th>4</th>\n",
       "      <td>Male</td>\n",
       "      <td>Not employed</td>\n",
       "      <td>United States of America</td>\n",
       "      <td>Master’s degree</td>\n",
       "      <td>35-39</td>\n",
       "      <td>NaN</td>\n",
       "      <td>NaN</td>\n",
       "      <td>621</td>\n",
       "    </tr>\n",
       "    <tr>\n",
       "      <th>5</th>\n",
       "      <td>Male</td>\n",
       "      <td>Data Analyst</td>\n",
       "      <td>India</td>\n",
       "      <td>Master’s degree</td>\n",
       "      <td>22-24</td>\n",
       "      <td>0-1</td>\n",
       "      <td>0-10,000</td>\n",
       "      <td>731</td>\n",
       "    </tr>\n",
       "  </tbody>\n",
       "</table>\n",
       "</div>"
      ],
      "text/plain": [
       "   Gender            Role                   Country Level of education    Age  \\\n",
       "1  Female      Consultant  United States of America    Doctoral degree  45-49   \n",
       "2    Male           Other                 Indonesia  Bachelor’s degree  30-34   \n",
       "3  Female  Data Scientist  United States of America    Master’s degree  30-34   \n",
       "4    Male    Not employed  United States of America    Master’s degree  35-39   \n",
       "5    Male    Data Analyst                     India    Master’s degree  22-24   \n",
       "\n",
       "  Experience      Money  Duration  \n",
       "1        NaN        NaN       710  \n",
       "2       5-10  10-20,000       434  \n",
       "3        0-1   0-10,000       718  \n",
       "4        NaN        NaN       621  \n",
       "5        0-1   0-10,000       731  "
      ]
     },
     "execution_count": 10,
     "metadata": {},
     "output_type": "execute_result"
    }
   ],
   "source": [
    "new_df = mc_response_df['Q1']\n",
    "new_df = pd.DataFrame(new_df)\n",
    "new_df['Role'] = mc_response_df['Q6']\n",
    "new_df.rename(columns={'Q1':'Gender'}, inplace=True)\n",
    "new_df['Country'] = mc_response_df['Q3']\n",
    "new_df['Level of education'] = mc_response_df['Q4']\n",
    "new_df['Age'] = mc_response_df['Q2']\n",
    "new_df['Experience'] = mc_response_df['Q8']\n",
    "new_df['Money'] = mc_response_df['Q9']\n",
    "new_df['Duration'] = mc_response_df['Time from Start to Finish (seconds)']\n",
    "\n",
    "new_df = new_df.ix[1:]\n",
    "new_df['Duration'] = pd.to_numeric(new_df['Duration'])\n",
    "\n",
    "new_df.head()"
   ]
  },
  {
   "cell_type": "code",
   "execution_count": 11,
   "metadata": {},
   "outputs": [
    {
     "data": {
      "text/plain": [
       "Gender                object\n",
       "Role                  object\n",
       "Country               object\n",
       "Level of education    object\n",
       "Age                   object\n",
       "Experience            object\n",
       "Money                 object\n",
       "Duration               int64\n",
       "dtype: object"
      ]
     },
     "execution_count": 11,
     "metadata": {},
     "output_type": "execute_result"
    }
   ],
   "source": [
    "new_df.dtypes"
   ]
  },
  {
   "cell_type": "markdown",
   "metadata": {},
   "source": [
    "Faced a lot of difficulty when doing scatterplot/boxplot or even heat map as the values are as an 'object' and non-null object and unable to convert them to a integer/number as they represent a range of values"
   ]
  },
  {
   "cell_type": "markdown",
   "metadata": {},
   "source": [
    "Tried to work through the problem by using groupby and size to get integer values"
   ]
  },
  {
   "cell_type": "code",
   "execution_count": 12,
   "metadata": {},
   "outputs": [
    {
     "data": {
      "text/plain": [
       "Money\n",
       "0-10,000       4398\n",
       "10-20,000      1937\n",
       "100-125,000     843\n",
       "125-150,000     533\n",
       "150-200,000     457\n",
       "dtype: int64"
      ]
     },
     "execution_count": 12,
     "metadata": {},
     "output_type": "execute_result"
    }
   ],
   "source": [
    "money_df = new_df.groupby(['Money']).size()\n",
    "money_df.head()"
   ]
  },
  {
   "cell_type": "markdown",
   "metadata": {},
   "source": [
    "Created a bar chart to find out how much people earn and that most people are reluctant to reveal their salary as seen in the graph or are mostly students earning,$0 (this is supported by the graph below where we look the role)"
   ]
  },
  {
   "cell_type": "code",
   "execution_count": 282,
   "metadata": {},
   "outputs": [
    {
     "data": {
      "image/png": "[encoded data removed]",
      "text/plain": [
       "<Figure size 720x432 with 1 Axes>"
      ]
     },
     "metadata": {},
     "output_type": "display_data"
    }
   ],
   "source": [
    "fig, ax = plt.subplots()\n",
    "\n",
    "money_df.plot(kind='bar',\n",
    "             stacked=True, \n",
    "             figsize=FIG_SIZE,\n",
    "             ax=ax)\n",
    "\n",
    "ax.set_title('Money earned by individuals')\n",
    "ax.set_ylabel(\"Count\")\n",
    "plt.show()"
   ]
  },
  {
   "cell_type": "code",
   "execution_count": 290,
   "metadata": {},
   "outputs": [
    {
     "data": {
      "text/plain": [
       "Role\n",
       "Business Analyst          772\n",
       "Chief Officer             360\n",
       "Consultant                785\n",
       "DBA/Database Engineer     145\n",
       "Data Analyst             1922\n",
       "dtype: int64"
      ]
     },
     "execution_count": 290,
     "metadata": {},
     "output_type": "execute_result"
    }
   ],
   "source": [
    "jobs_df = new_df.groupby(['Role']).size()\n",
    "jobs_df.head()"
   ]
  },
  {
   "cell_type": "markdown",
   "metadata": {},
   "source": [
    "Jobs datafram is created based on roles and found out that mostly students took the survey, followed my data scientist as they came in second"
   ]
  },
  {
   "cell_type": "code",
   "execution_count": 292,
   "metadata": {},
   "outputs": [
    {
     "data": {
      "image/png": "[encoded data removed]",
      "text/plain": [
       "<Figure size 1000x600 with 1 Axes>"
      ]
     },
     "metadata": {},
     "output_type": "display_data"
    }
   ],
   "source": [
    "fig, ax = plt.subplots()\n",
    "\n",
    "jobs_df.plot(kind='bar',\n",
    "             stacked=True, \n",
    "             figsize=FIG_SIZE,\n",
    "             ax=ax)\n",
    "\n",
    "ax.set_title('Roles')\n",
    "ax.set_ylabel(\"Count\")\n",
    "plt.show()"
   ]
  },
  {
   "cell_type": "markdown",
   "metadata": {},
   "source": [
    "created a specific data frame for fata scientist, looking at their income levels only"
   ]
  },
  {
   "cell_type": "code",
   "execution_count": 391,
   "metadata": {},
   "outputs": [
    {
     "data": {
      "text/html": [
       "<div>\n",
       "<style scoped>\n",
       "    .dataframe tbody tr th:only-of-type {\n",
       "        vertical-align: middle;\n",
       "    }\n",
       "\n",
       "    .dataframe tbody tr th {\n",
       "        vertical-align: top;\n",
       "    }\n",
       "\n",
       "    .dataframe thead th {\n",
       "        text-align: right;\n",
       "    }\n",
       "</style>\n",
       "<table border=\"1\" class=\"dataframe\">\n",
       "  <thead>\n",
       "    <tr style=\"text-align: right;\">\n",
       "      <th></th>\n",
       "      <th>Count</th>\n",
       "      <th>Duration</th>\n",
       "      <th>New</th>\n",
       "    </tr>\n",
       "    <tr>\n",
       "      <th>Money</th>\n",
       "      <th></th>\n",
       "      <th></th>\n",
       "      <th></th>\n",
       "    </tr>\n",
       "  </thead>\n",
       "  <tbody>\n",
       "    <tr>\n",
       "      <th>0-10,000</th>\n",
       "      <td>461</td>\n",
       "      <td>461</td>\n",
       "      <td>0-10,000</td>\n",
       "    </tr>\n",
       "    <tr>\n",
       "      <th>10-20,000</th>\n",
       "      <td>347</td>\n",
       "      <td>347</td>\n",
       "      <td>10-20,000</td>\n",
       "    </tr>\n",
       "    <tr>\n",
       "      <th>100-125,000</th>\n",
       "      <td>267</td>\n",
       "      <td>267</td>\n",
       "      <td>100-125,000</td>\n",
       "    </tr>\n",
       "    <tr>\n",
       "      <th>125-150,000</th>\n",
       "      <td>191</td>\n",
       "      <td>191</td>\n",
       "      <td>125-150,000</td>\n",
       "    </tr>\n",
       "    <tr>\n",
       "      <th>150-200,000</th>\n",
       "      <td>145</td>\n",
       "      <td>145</td>\n",
       "      <td>150-200,000</td>\n",
       "    </tr>\n",
       "  </tbody>\n",
       "</table>\n",
       "</div>"
      ],
      "text/plain": [
       "             Count  Duration          New\n",
       "Money                                    \n",
       "0-10,000       461       461     0-10,000\n",
       "10-20,000      347       347    10-20,000\n",
       "100-125,000    267       267  100-125,000\n",
       "125-150,000    191       191  125-150,000\n",
       "150-200,000    145       145  150-200,000"
      ]
     },
     "execution_count": 391,
     "metadata": {},
     "output_type": "execute_result"
    }
   ],
   "source": [
    "data_scientist_df = pd.DataFrame(new_df)\n",
    "data_scientist_df = data_scientist_df[data_scientist_df['Role'] == 'Data Scientist']\n",
    "data_scientist_df = data_scientist_df.groupby('Money').count()\n",
    "del data_scientist_df['Role']\n",
    "del data_scientist_df['Country']\n",
    "del data_scientist_df['Level of education']\n",
    "del data_scientist_df['Age']\n",
    "del data_scientist_df['Experience']\n",
    "data_scientist_df.rename(columns={'Gender':'Count'}, inplace=True)\n",
    "\n",
    "data_scientist_df[\"New\"] = data_scientist_df.index\n",
    "data_scientist_df.head()\n"
   ]
  },
  {
   "cell_type": "markdown",
   "metadata": {},
   "source": [
    "#data_scientist_df['New'].astype(float)\n",
    "tried this but was unable to convert to float as they could not convert string to float: 'I do not wish to disclose my approximate yearly compensation'\n",
    "\n"
   ]
  },
  {
   "cell_type": "code",
   "execution_count": 394,
   "metadata": {},
   "outputs": [
    {
     "ename": "ValueError",
     "evalue": "could not convert string to float: '90-100,000'",
     "output_type": "error",
     "traceback": [
      "\u001b[0;31m---------------------------------------------------------------------------\u001b[0m",
      "\u001b[0;31mValueError\u001b[0m                                Traceback (most recent call last)",
      "\u001b[0;32m<ipython-input-394-bf13399a4ad6>\u001b[0m in \u001b[0;36m<module>\u001b[0;34m()\u001b[0m\n\u001b[1;32m      1\u001b[0m \u001b[0mdata_scientist_df\u001b[0m \u001b[0;34m=\u001b[0m \u001b[0mdata_scientist_df\u001b[0m\u001b[0;34m[\u001b[0m\u001b[0mdata_scientist_df\u001b[0m\u001b[0;34m[\u001b[0m\u001b[0;34m'New'\u001b[0m\u001b[0;34m]\u001b[0m \u001b[0;34m!=\u001b[0m \u001b[0;34m'I do not wish to disclose my approximate yearly compensation'\u001b[0m\u001b[0;34m]\u001b[0m\u001b[0;34m\u001b[0m\u001b[0m\n\u001b[0;32m----> 2\u001b[0;31m \u001b[0mdata_scientist_df\u001b[0m\u001b[0;34m[\u001b[0m\u001b[0;34m'New'\u001b[0m\u001b[0;34m]\u001b[0m\u001b[0;34m.\u001b[0m\u001b[0mastype\u001b[0m\u001b[0;34m(\u001b[0m\u001b[0mfloat\u001b[0m\u001b[0;34m)\u001b[0m\u001b[0;34m\u001b[0m\u001b[0m\n\u001b[0m",
      "\u001b[0;32m/anaconda3/lib/python3.7/site-packages/pandas/util/_decorators.py\u001b[0m in \u001b[0;36mwrapper\u001b[0;34m(*args, **kwargs)\u001b[0m\n\u001b[1;32m    176\u001b[0m                 \u001b[0;32melse\u001b[0m\u001b[0;34m:\u001b[0m\u001b[0;34m\u001b[0m\u001b[0m\n\u001b[1;32m    177\u001b[0m                     \u001b[0mkwargs\u001b[0m\u001b[0;34m[\u001b[0m\u001b[0mnew_arg_name\u001b[0m\u001b[0;34m]\u001b[0m \u001b[0;34m=\u001b[0m \u001b[0mnew_arg_value\u001b[0m\u001b[0;34m\u001b[0m\u001b[0m\n\u001b[0;32m--> 178\u001b[0;31m             \u001b[0;32mreturn\u001b[0m \u001b[0mfunc\u001b[0m\u001b[0;34m(\u001b[0m\u001b[0;34m*\u001b[0m\u001b[0margs\u001b[0m\u001b[0;34m,\u001b[0m \u001b[0;34m**\u001b[0m\u001b[0mkwargs\u001b[0m\u001b[0;34m)\u001b[0m\u001b[0;34m\u001b[0m\u001b[0m\n\u001b[0m\u001b[1;32m    179\u001b[0m         \u001b[0;32mreturn\u001b[0m \u001b[0mwrapper\u001b[0m\u001b[0;34m\u001b[0m\u001b[0m\n\u001b[1;32m    180\u001b[0m     \u001b[0;32mreturn\u001b[0m \u001b[0m_deprecate_kwarg\u001b[0m\u001b[0;34m\u001b[0m\u001b[0m\n",
      "\u001b[0;32m/anaconda3/lib/python3.7/site-packages/pandas/core/generic.py\u001b[0m in \u001b[0;36mastype\u001b[0;34m(self, dtype, copy, errors, **kwargs)\u001b[0m\n\u001b[1;32m   4999\u001b[0m             \u001b[0;31m# else, only a single dtype is given\u001b[0m\u001b[0;34m\u001b[0m\u001b[0;34m\u001b[0m\u001b[0m\n\u001b[1;32m   5000\u001b[0m             new_data = self._data.astype(dtype=dtype, copy=copy, errors=errors,\n\u001b[0;32m-> 5001\u001b[0;31m                                          **kwargs)\n\u001b[0m\u001b[1;32m   5002\u001b[0m             \u001b[0;32mreturn\u001b[0m \u001b[0mself\u001b[0m\u001b[0;34m.\u001b[0m\u001b[0m_constructor\u001b[0m\u001b[0;34m(\u001b[0m\u001b[0mnew_data\u001b[0m\u001b[0;34m)\u001b[0m\u001b[0;34m.\u001b[0m\u001b[0m__finalize__\u001b[0m\u001b[0;34m(\u001b[0m\u001b[0mself\u001b[0m\u001b[0;34m)\u001b[0m\u001b[0;34m\u001b[0m\u001b[0m\n\u001b[1;32m   5003\u001b[0m \u001b[0;34m\u001b[0m\u001b[0m\n",
      "\u001b[0;32m/anaconda3/lib/python3.7/site-packages/pandas/core/internals.py\u001b[0m in \u001b[0;36mastype\u001b[0;34m(self, dtype, **kwargs)\u001b[0m\n\u001b[1;32m   3712\u001b[0m \u001b[0;34m\u001b[0m\u001b[0m\n\u001b[1;32m   3713\u001b[0m     \u001b[0;32mdef\u001b[0m \u001b[0mastype\u001b[0m\u001b[0;34m(\u001b[0m\u001b[0mself\u001b[0m\u001b[0;34m,\u001b[0m \u001b[0mdtype\u001b[0m\u001b[0;34m,\u001b[0m \u001b[0;34m**\u001b[0m\u001b[0mkwargs\u001b[0m\u001b[0;34m)\u001b[0m\u001b[0;34m:\u001b[0m\u001b[0;34m\u001b[0m\u001b[0m\n\u001b[0;32m-> 3714\u001b[0;31m         \u001b[0;32mreturn\u001b[0m \u001b[0mself\u001b[0m\u001b[0;34m.\u001b[0m\u001b[0mapply\u001b[0m\u001b[0;34m(\u001b[0m\u001b[0;34m'astype'\u001b[0m\u001b[0;34m,\u001b[0m \u001b[0mdtype\u001b[0m\u001b[0;34m=\u001b[0m\u001b[0mdtype\u001b[0m\u001b[0;34m,\u001b[0m \u001b[0;34m**\u001b[0m\u001b[0mkwargs\u001b[0m\u001b[0;34m)\u001b[0m\u001b[0;34m\u001b[0m\u001b[0m\n\u001b[0m\u001b[1;32m   3715\u001b[0m \u001b[0;34m\u001b[0m\u001b[0m\n\u001b[1;32m   3716\u001b[0m     \u001b[0;32mdef\u001b[0m \u001b[0mconvert\u001b[0m\u001b[0;34m(\u001b[0m\u001b[0mself\u001b[0m\u001b[0;34m,\u001b[0m \u001b[0;34m**\u001b[0m\u001b[0mkwargs\u001b[0m\u001b[0;34m)\u001b[0m\u001b[0;34m:\u001b[0m\u001b[0;34m\u001b[0m\u001b[0m\n",
      "\u001b[0;32m/anaconda3/lib/python3.7/site-packages/pandas/core/internals.py\u001b[0m in \u001b[0;36mapply\u001b[0;34m(self, f, axes, filter, do_integrity_check, consolidate, **kwargs)\u001b[0m\n\u001b[1;32m   3579\u001b[0m \u001b[0;34m\u001b[0m\u001b[0m\n\u001b[1;32m   3580\u001b[0m             \u001b[0mkwargs\u001b[0m\u001b[0;34m[\u001b[0m\u001b[0;34m'mgr'\u001b[0m\u001b[0;34m]\u001b[0m \u001b[0;34m=\u001b[0m \u001b[0mself\u001b[0m\u001b[0;34m\u001b[0m\u001b[0m\n\u001b[0;32m-> 3581\u001b[0;31m             \u001b[0mapplied\u001b[0m \u001b[0;34m=\u001b[0m \u001b[0mgetattr\u001b[0m\u001b[0;34m(\u001b[0m\u001b[0mb\u001b[0m\u001b[0;34m,\u001b[0m \u001b[0mf\u001b[0m\u001b[0;34m)\u001b[0m\u001b[0;34m(\u001b[0m\u001b[0;34m**\u001b[0m\u001b[0mkwargs\u001b[0m\u001b[0;34m)\u001b[0m\u001b[0;34m\u001b[0m\u001b[0m\n\u001b[0m\u001b[1;32m   3582\u001b[0m             \u001b[0mresult_blocks\u001b[0m \u001b[0;34m=\u001b[0m \u001b[0m_extend_blocks\u001b[0m\u001b[0;34m(\u001b[0m\u001b[0mapplied\u001b[0m\u001b[0;34m,\u001b[0m \u001b[0mresult_blocks\u001b[0m\u001b[0;34m)\u001b[0m\u001b[0;34m\u001b[0m\u001b[0m\n\u001b[1;32m   3583\u001b[0m \u001b[0;34m\u001b[0m\u001b[0m\n",
      "\u001b[0;32m/anaconda3/lib/python3.7/site-packages/pandas/core/internals.py\u001b[0m in \u001b[0;36mastype\u001b[0;34m(self, dtype, copy, errors, values, **kwargs)\u001b[0m\n\u001b[1;32m    573\u001b[0m     \u001b[0;32mdef\u001b[0m \u001b[0mastype\u001b[0m\u001b[0;34m(\u001b[0m\u001b[0mself\u001b[0m\u001b[0;34m,\u001b[0m \u001b[0mdtype\u001b[0m\u001b[0;34m,\u001b[0m \u001b[0mcopy\u001b[0m\u001b[0;34m=\u001b[0m\u001b[0;32mFalse\u001b[0m\u001b[0;34m,\u001b[0m \u001b[0merrors\u001b[0m\u001b[0;34m=\u001b[0m\u001b[0;34m'raise'\u001b[0m\u001b[0;34m,\u001b[0m \u001b[0mvalues\u001b[0m\u001b[0;34m=\u001b[0m\u001b[0;32mNone\u001b[0m\u001b[0;34m,\u001b[0m \u001b[0;34m**\u001b[0m\u001b[0mkwargs\u001b[0m\u001b[0;34m)\u001b[0m\u001b[0;34m:\u001b[0m\u001b[0;34m\u001b[0m\u001b[0m\n\u001b[1;32m    574\u001b[0m         return self._astype(dtype, copy=copy, errors=errors, values=values,\n\u001b[0;32m--> 575\u001b[0;31m                             **kwargs)\n\u001b[0m\u001b[1;32m    576\u001b[0m \u001b[0;34m\u001b[0m\u001b[0m\n\u001b[1;32m    577\u001b[0m     def _astype(self, dtype, copy=False, errors='raise', values=None,\n",
      "\u001b[0;32m/anaconda3/lib/python3.7/site-packages/pandas/core/internals.py\u001b[0m in \u001b[0;36m_astype\u001b[0;34m(self, dtype, copy, errors, values, klass, mgr, **kwargs)\u001b[0m\n\u001b[1;32m    662\u001b[0m \u001b[0;34m\u001b[0m\u001b[0m\n\u001b[1;32m    663\u001b[0m                 \u001b[0;31m# _astype_nansafe works fine with 1-d only\u001b[0m\u001b[0;34m\u001b[0m\u001b[0;34m\u001b[0m\u001b[0m\n\u001b[0;32m--> 664\u001b[0;31m                 \u001b[0mvalues\u001b[0m \u001b[0;34m=\u001b[0m \u001b[0mastype_nansafe\u001b[0m\u001b[0;34m(\u001b[0m\u001b[0mvalues\u001b[0m\u001b[0;34m.\u001b[0m\u001b[0mravel\u001b[0m\u001b[0;34m(\u001b[0m\u001b[0;34m)\u001b[0m\u001b[0;34m,\u001b[0m \u001b[0mdtype\u001b[0m\u001b[0;34m,\u001b[0m \u001b[0mcopy\u001b[0m\u001b[0;34m=\u001b[0m\u001b[0;32mTrue\u001b[0m\u001b[0;34m)\u001b[0m\u001b[0;34m\u001b[0m\u001b[0m\n\u001b[0m\u001b[1;32m    665\u001b[0m                 \u001b[0mvalues\u001b[0m \u001b[0;34m=\u001b[0m \u001b[0mvalues\u001b[0m\u001b[0;34m.\u001b[0m\u001b[0mreshape\u001b[0m\u001b[0;34m(\u001b[0m\u001b[0mself\u001b[0m\u001b[0;34m.\u001b[0m\u001b[0mshape\u001b[0m\u001b[0;34m)\u001b[0m\u001b[0;34m\u001b[0m\u001b[0m\n\u001b[1;32m    666\u001b[0m \u001b[0;34m\u001b[0m\u001b[0m\n",
      "\u001b[0;32m/anaconda3/lib/python3.7/site-packages/pandas/core/dtypes/cast.py\u001b[0m in \u001b[0;36mastype_nansafe\u001b[0;34m(arr, dtype, copy)\u001b[0m\n\u001b[1;32m    728\u001b[0m \u001b[0;34m\u001b[0m\u001b[0m\n\u001b[1;32m    729\u001b[0m     \u001b[0;32mif\u001b[0m \u001b[0mcopy\u001b[0m\u001b[0;34m:\u001b[0m\u001b[0;34m\u001b[0m\u001b[0m\n\u001b[0;32m--> 730\u001b[0;31m         \u001b[0;32mreturn\u001b[0m \u001b[0marr\u001b[0m\u001b[0;34m.\u001b[0m\u001b[0mastype\u001b[0m\u001b[0;34m(\u001b[0m\u001b[0mdtype\u001b[0m\u001b[0;34m,\u001b[0m \u001b[0mcopy\u001b[0m\u001b[0;34m=\u001b[0m\u001b[0;32mTrue\u001b[0m\u001b[0;34m)\u001b[0m\u001b[0;34m\u001b[0m\u001b[0m\n\u001b[0m\u001b[1;32m    731\u001b[0m     \u001b[0;32mreturn\u001b[0m \u001b[0marr\u001b[0m\u001b[0;34m.\u001b[0m\u001b[0mview\u001b[0m\u001b[0;34m(\u001b[0m\u001b[0mdtype\u001b[0m\u001b[0;34m)\u001b[0m\u001b[0;34m\u001b[0m\u001b[0m\n\u001b[1;32m    732\u001b[0m \u001b[0;34m\u001b[0m\u001b[0m\n",
      "\u001b[0;31mValueError\u001b[0m: could not convert string to float: '90-100,000'"
     ]
    }
   ],
   "source": [
    "data_scientist_df = data_scientist_df[data_scientist_df['New'] != 'I do not wish to disclose my approximate yearly compensation']\n",
    "data_scientist_df['New'].astype(float)"
   ]
  },
  {
   "cell_type": "code",
   "execution_count": null,
   "metadata": {},
   "outputs": [],
   "source": [
    "created a df to better illustrate the time taken for various roles and ages to fill up the survey"
   ]
  },
  {
   "cell_type": "code",
   "execution_count": 367,
   "metadata": {},
   "outputs": [
    {
     "data": {
      "text/html": [
       "<div>\n",
       "<style scoped>\n",
       "    .dataframe tbody tr th:only-of-type {\n",
       "        vertical-align: middle;\n",
       "    }\n",
       "\n",
       "    .dataframe tbody tr th {\n",
       "        vertical-align: top;\n",
       "    }\n",
       "\n",
       "    .dataframe thead th {\n",
       "        text-align: right;\n",
       "    }\n",
       "</style>\n",
       "<table border=\"1\" class=\"dataframe\">\n",
       "  <thead>\n",
       "    <tr style=\"text-align: right;\">\n",
       "      <th></th>\n",
       "      <th>Duration</th>\n",
       "    </tr>\n",
       "    <tr>\n",
       "      <th>Role</th>\n",
       "      <th></th>\n",
       "    </tr>\n",
       "  </thead>\n",
       "  <tbody>\n",
       "    <tr>\n",
       "      <th>Business Analyst</th>\n",
       "      <td>12343.757772</td>\n",
       "    </tr>\n",
       "    <tr>\n",
       "      <th>Chief Officer</th>\n",
       "      <td>11928.194444</td>\n",
       "    </tr>\n",
       "    <tr>\n",
       "      <th>Consultant</th>\n",
       "      <td>7191.677707</td>\n",
       "    </tr>\n",
       "    <tr>\n",
       "      <th>DBA/Database Engineer</th>\n",
       "      <td>10294.668966</td>\n",
       "    </tr>\n",
       "    <tr>\n",
       "      <th>Data Analyst</th>\n",
       "      <td>12837.425598</td>\n",
       "    </tr>\n",
       "  </tbody>\n",
       "</table>\n",
       "</div>"
      ],
      "text/plain": [
       "                           Duration\n",
       "Role                               \n",
       "Business Analyst       12343.757772\n",
       "Chief Officer          11928.194444\n",
       "Consultant              7191.677707\n",
       "DBA/Database Engineer  10294.668966\n",
       "Data Analyst           12837.425598"
      ]
     },
     "execution_count": 367,
     "metadata": {},
     "output_type": "execute_result"
    }
   ],
   "source": [
    "pd.pivot_table(new_df,index=[\"Role\"]).head()"
   ]
  },
  {
   "cell_type": "markdown",
   "metadata": {},
   "source": [
    "Various roles and the age group they lie in"
   ]
  },
  {
   "cell_type": "code",
   "execution_count": 374,
   "metadata": {},
   "outputs": [
    {
     "data": {
      "text/html": [
       "<div>\n",
       "<style scoped>\n",
       "    .dataframe tbody tr th:only-of-type {\n",
       "        vertical-align: middle;\n",
       "    }\n",
       "\n",
       "    .dataframe tbody tr th {\n",
       "        vertical-align: top;\n",
       "    }\n",
       "\n",
       "    .dataframe thead th {\n",
       "        text-align: right;\n",
       "    }\n",
       "</style>\n",
       "<table border=\"1\" class=\"dataframe\">\n",
       "  <thead>\n",
       "    <tr style=\"text-align: right;\">\n",
       "      <th>Age</th>\n",
       "      <th>Role</th>\n",
       "      <th>18-21</th>\n",
       "      <th>22-24</th>\n",
       "      <th>25-29</th>\n",
       "      <th>30-34</th>\n",
       "      <th>35-39</th>\n",
       "      <th>40-44</th>\n",
       "      <th>45-49</th>\n",
       "      <th>50-54</th>\n",
       "      <th>55-59</th>\n",
       "      <th>60-69</th>\n",
       "      <th>70-79</th>\n",
       "      <th>80+</th>\n",
       "    </tr>\n",
       "  </thead>\n",
       "  <tbody>\n",
       "    <tr>\n",
       "      <th>0</th>\n",
       "      <td>Business Analyst</td>\n",
       "      <td>30.0</td>\n",
       "      <td>121.0</td>\n",
       "      <td>241.0</td>\n",
       "      <td>156.0</td>\n",
       "      <td>73.0</td>\n",
       "      <td>48.0</td>\n",
       "      <td>25.0</td>\n",
       "      <td>22.0</td>\n",
       "      <td>9.0</td>\n",
       "      <td>4.0</td>\n",
       "      <td>NaN</td>\n",
       "      <td>NaN</td>\n",
       "    </tr>\n",
       "    <tr>\n",
       "      <th>1</th>\n",
       "      <td>Chief Officer</td>\n",
       "      <td>7.0</td>\n",
       "      <td>11.0</td>\n",
       "      <td>38.0</td>\n",
       "      <td>53.0</td>\n",
       "      <td>55.0</td>\n",
       "      <td>51.0</td>\n",
       "      <td>55.0</td>\n",
       "      <td>36.0</td>\n",
       "      <td>18.0</td>\n",
       "      <td>13.0</td>\n",
       "      <td>3.0</td>\n",
       "      <td>2.0</td>\n",
       "    </tr>\n",
       "    <tr>\n",
       "      <th>2</th>\n",
       "      <td>Consultant</td>\n",
       "      <td>6.0</td>\n",
       "      <td>56.0</td>\n",
       "      <td>170.0</td>\n",
       "      <td>136.0</td>\n",
       "      <td>96.0</td>\n",
       "      <td>77.0</td>\n",
       "      <td>64.0</td>\n",
       "      <td>46.0</td>\n",
       "      <td>37.0</td>\n",
       "      <td>37.0</td>\n",
       "      <td>12.0</td>\n",
       "      <td>2.0</td>\n",
       "    </tr>\n",
       "    <tr>\n",
       "      <th>3</th>\n",
       "      <td>DBA/Database Engineer</td>\n",
       "      <td>1.0</td>\n",
       "      <td>18.0</td>\n",
       "      <td>30.0</td>\n",
       "      <td>38.0</td>\n",
       "      <td>18.0</td>\n",
       "      <td>9.0</td>\n",
       "      <td>8.0</td>\n",
       "      <td>9.0</td>\n",
       "      <td>3.0</td>\n",
       "      <td>4.0</td>\n",
       "      <td>NaN</td>\n",
       "      <td>NaN</td>\n",
       "    </tr>\n",
       "    <tr>\n",
       "      <th>4</th>\n",
       "      <td>Data Analyst</td>\n",
       "      <td>106.0</td>\n",
       "      <td>409.0</td>\n",
       "      <td>595.0</td>\n",
       "      <td>333.0</td>\n",
       "      <td>146.0</td>\n",
       "      <td>79.0</td>\n",
       "      <td>48.0</td>\n",
       "      <td>28.0</td>\n",
       "      <td>17.0</td>\n",
       "      <td>11.0</td>\n",
       "      <td>2.0</td>\n",
       "      <td>2.0</td>\n",
       "    </tr>\n",
       "  </tbody>\n",
       "</table>\n",
       "</div>"
      ],
      "text/plain": [
       "Age                   Role  18-21  22-24  25-29  30-34  35-39  40-44  45-49  \\\n",
       "0         Business Analyst   30.0  121.0  241.0  156.0   73.0   48.0   25.0   \n",
       "1            Chief Officer    7.0   11.0   38.0   53.0   55.0   51.0   55.0   \n",
       "2               Consultant    6.0   56.0  170.0  136.0   96.0   77.0   64.0   \n",
       "3    DBA/Database Engineer    1.0   18.0   30.0   38.0   18.0    9.0    8.0   \n",
       "4             Data Analyst  106.0  409.0  595.0  333.0  146.0   79.0   48.0   \n",
       "\n",
       "Age  50-54  55-59  60-69  70-79  80+  \n",
       "0     22.0    9.0    4.0    NaN  NaN  \n",
       "1     36.0   18.0   13.0    3.0  2.0  \n",
       "2     46.0   37.0   37.0   12.0  2.0  \n",
       "3      9.0    3.0    4.0    NaN  NaN  \n",
       "4     28.0   17.0   11.0    2.0  2.0  "
      ]
     },
     "execution_count": 374,
     "metadata": {},
     "output_type": "execute_result"
    }
   ],
   "source": [
    "pivot = new_df.pivot_table(index=['Role'],\n",
    "                       columns=['Age'],\n",
    "                       values='Money',\n",
    "                       aggfunc='count').reset_index()\n",
    "pivot.head()"
   ]
  },
  {
   "cell_type": "code",
   "execution_count": 387,
   "metadata": {},
   "outputs": [
    {
     "data": {
      "text/plain": [
       "0       30.0\n",
       "1        7.0\n",
       "2        6.0\n",
       "3        1.0\n",
       "4      106.0\n",
       "5       29.0\n",
       "6        NaN\n",
       "7      186.0\n",
       "8        4.0\n",
       "9        6.0\n",
       "10       1.0\n",
       "11       0.0\n",
       "12      30.0\n",
       "13       NaN\n",
       "14       5.0\n",
       "15      40.0\n",
       "16      21.0\n",
       "17       7.0\n",
       "18     179.0\n",
       "19       8.0\n",
       "20    1613.0\n",
       "Name: 18-21, dtype: float64"
      ]
     },
     "execution_count": 387,
     "metadata": {},
     "output_type": "execute_result"
    }
   ],
   "source": [
    "pivot['18-21'].astype(float)\n"
   ]
  },
  {
   "cell_type": "markdown",
   "metadata": {},
   "source": [
    "Managed to create a df thaat contains the roles and the amount that they earn"
   ]
  },
  {
   "cell_type": "code",
   "execution_count": 410,
   "metadata": {},
   "outputs": [
    {
     "data": {
      "text/html": [
       "<div>\n",
       "<style scoped>\n",
       "    .dataframe tbody tr th:only-of-type {\n",
       "        vertical-align: middle;\n",
       "    }\n",
       "\n",
       "    .dataframe tbody tr th {\n",
       "        vertical-align: top;\n",
       "    }\n",
       "\n",
       "    .dataframe thead th {\n",
       "        text-align: right;\n",
       "    }\n",
       "</style>\n",
       "<table border=\"1\" class=\"dataframe\">\n",
       "  <thead>\n",
       "    <tr style=\"text-align: right;\">\n",
       "      <th>Money</th>\n",
       "      <th>0-10,000</th>\n",
       "      <th>10-20,000</th>\n",
       "      <th>100-125,000</th>\n",
       "      <th>125-150,000</th>\n",
       "      <th>150-200,000</th>\n",
       "      <th>20-30,000</th>\n",
       "      <th>200-250,000</th>\n",
       "      <th>250-300,000</th>\n",
       "      <th>30-40,000</th>\n",
       "      <th>300-400,000</th>\n",
       "      <th>40-50,000</th>\n",
       "      <th>400-500,000</th>\n",
       "      <th>50-60,000</th>\n",
       "      <th>500,000+</th>\n",
       "      <th>60-70,000</th>\n",
       "      <th>70-80,000</th>\n",
       "      <th>80-90,000</th>\n",
       "      <th>90-100,000</th>\n",
       "      <th>I do not wish to disclose my approximate yearly compensation</th>\n",
       "    </tr>\n",
       "    <tr>\n",
       "      <th>Role</th>\n",
       "      <th></th>\n",
       "      <th></th>\n",
       "      <th></th>\n",
       "      <th></th>\n",
       "      <th></th>\n",
       "      <th></th>\n",
       "      <th></th>\n",
       "      <th></th>\n",
       "      <th></th>\n",
       "      <th></th>\n",
       "      <th></th>\n",
       "      <th></th>\n",
       "      <th></th>\n",
       "      <th></th>\n",
       "      <th></th>\n",
       "      <th></th>\n",
       "      <th></th>\n",
       "      <th></th>\n",
       "      <th></th>\n",
       "    </tr>\n",
       "  </thead>\n",
       "  <tbody>\n",
       "    <tr>\n",
       "      <th>Business Analyst</th>\n",
       "      <td>95.0</td>\n",
       "      <td>104.0</td>\n",
       "      <td>22.0</td>\n",
       "      <td>6.0</td>\n",
       "      <td>8.0</td>\n",
       "      <td>64.0</td>\n",
       "      <td>1.0</td>\n",
       "      <td>NaN</td>\n",
       "      <td>47.0</td>\n",
       "      <td>NaN</td>\n",
       "      <td>46.0</td>\n",
       "      <td>NaN</td>\n",
       "      <td>54.0</td>\n",
       "      <td>4.0</td>\n",
       "      <td>46.0</td>\n",
       "      <td>32.0</td>\n",
       "      <td>30.0</td>\n",
       "      <td>31.0</td>\n",
       "      <td>139.0</td>\n",
       "    </tr>\n",
       "    <tr>\n",
       "      <th>Chief Officer</th>\n",
       "      <td>21.0</td>\n",
       "      <td>22.0</td>\n",
       "      <td>20.0</td>\n",
       "      <td>20.0</td>\n",
       "      <td>30.0</td>\n",
       "      <td>15.0</td>\n",
       "      <td>17.0</td>\n",
       "      <td>9.0</td>\n",
       "      <td>7.0</td>\n",
       "      <td>6.0</td>\n",
       "      <td>9.0</td>\n",
       "      <td>4.0</td>\n",
       "      <td>10.0</td>\n",
       "      <td>13.0</td>\n",
       "      <td>20.0</td>\n",
       "      <td>13.0</td>\n",
       "      <td>6.0</td>\n",
       "      <td>9.0</td>\n",
       "      <td>91.0</td>\n",
       "    </tr>\n",
       "    <tr>\n",
       "      <th>Consultant</th>\n",
       "      <td>63.0</td>\n",
       "      <td>55.0</td>\n",
       "      <td>58.0</td>\n",
       "      <td>28.0</td>\n",
       "      <td>32.0</td>\n",
       "      <td>51.0</td>\n",
       "      <td>13.0</td>\n",
       "      <td>4.0</td>\n",
       "      <td>54.0</td>\n",
       "      <td>1.0</td>\n",
       "      <td>47.0</td>\n",
       "      <td>1.0</td>\n",
       "      <td>40.0</td>\n",
       "      <td>4.0</td>\n",
       "      <td>39.0</td>\n",
       "      <td>21.0</td>\n",
       "      <td>26.0</td>\n",
       "      <td>36.0</td>\n",
       "      <td>166.0</td>\n",
       "    </tr>\n",
       "    <tr>\n",
       "      <th>DBA/Database Engineer</th>\n",
       "      <td>24.0</td>\n",
       "      <td>18.0</td>\n",
       "      <td>3.0</td>\n",
       "      <td>7.0</td>\n",
       "      <td>2.0</td>\n",
       "      <td>20.0</td>\n",
       "      <td>1.0</td>\n",
       "      <td>1.0</td>\n",
       "      <td>6.0</td>\n",
       "      <td>NaN</td>\n",
       "      <td>9.0</td>\n",
       "      <td>NaN</td>\n",
       "      <td>7.0</td>\n",
       "      <td>NaN</td>\n",
       "      <td>5.0</td>\n",
       "      <td>6.0</td>\n",
       "      <td>2.0</td>\n",
       "      <td>6.0</td>\n",
       "      <td>21.0</td>\n",
       "    </tr>\n",
       "    <tr>\n",
       "      <th>Data Analyst</th>\n",
       "      <td>372.0</td>\n",
       "      <td>217.0</td>\n",
       "      <td>67.0</td>\n",
       "      <td>19.0</td>\n",
       "      <td>8.0</td>\n",
       "      <td>135.0</td>\n",
       "      <td>2.0</td>\n",
       "      <td>1.0</td>\n",
       "      <td>113.0</td>\n",
       "      <td>2.0</td>\n",
       "      <td>100.0</td>\n",
       "      <td>3.0</td>\n",
       "      <td>99.0</td>\n",
       "      <td>3.0</td>\n",
       "      <td>96.0</td>\n",
       "      <td>79.0</td>\n",
       "      <td>66.0</td>\n",
       "      <td>46.0</td>\n",
       "      <td>348.0</td>\n",
       "    </tr>\n",
       "  </tbody>\n",
       "</table>\n",
       "</div>"
      ],
      "text/plain": [
       "Money                  0-10,000  10-20,000  100-125,000  125-150,000  \\\n",
       "Role                                                                   \n",
       "Business Analyst           95.0      104.0         22.0          6.0   \n",
       "Chief Officer              21.0       22.0         20.0         20.0   \n",
       "Consultant                 63.0       55.0         58.0         28.0   \n",
       "DBA/Database Engineer      24.0       18.0          3.0          7.0   \n",
       "Data Analyst              372.0      217.0         67.0         19.0   \n",
       "\n",
       "Money                  150-200,000  20-30,000  200-250,000  250-300,000  \\\n",
       "Role                                                                      \n",
       "Business Analyst               8.0       64.0          1.0          NaN   \n",
       "Chief Officer                 30.0       15.0         17.0          9.0   \n",
       "Consultant                    32.0       51.0         13.0          4.0   \n",
       "DBA/Database Engineer          2.0       20.0          1.0          1.0   \n",
       "Data Analyst                   8.0      135.0          2.0          1.0   \n",
       "\n",
       "Money                  30-40,000  300-400,000  40-50,000  400-500,000  \\\n",
       "Role                                                                    \n",
       "Business Analyst            47.0          NaN       46.0          NaN   \n",
       "Chief Officer                7.0          6.0        9.0          4.0   \n",
       "Consultant                  54.0          1.0       47.0          1.0   \n",
       "DBA/Database Engineer        6.0          NaN        9.0          NaN   \n",
       "Data Analyst               113.0          2.0      100.0          3.0   \n",
       "\n",
       "Money                  50-60,000  500,000+  60-70,000  70-80,000  80-90,000  \\\n",
       "Role                                                                          \n",
       "Business Analyst            54.0       4.0       46.0       32.0       30.0   \n",
       "Chief Officer               10.0      13.0       20.0       13.0        6.0   \n",
       "Consultant                  40.0       4.0       39.0       21.0       26.0   \n",
       "DBA/Database Engineer        7.0       NaN        5.0        6.0        2.0   \n",
       "Data Analyst                99.0       3.0       96.0       79.0       66.0   \n",
       "\n",
       "Money                  90-100,000  \\\n",
       "Role                                \n",
       "Business Analyst             31.0   \n",
       "Chief Officer                 9.0   \n",
       "Consultant                   36.0   \n",
       "DBA/Database Engineer         6.0   \n",
       "Data Analyst                 46.0   \n",
       "\n",
       "Money                  I do not wish to disclose my approximate yearly compensation  \n",
       "Role                                                                                 \n",
       "Business Analyst                                                   139.0             \n",
       "Chief Officer                                                       91.0             \n",
       "Consultant                                                         166.0             \n",
       "DBA/Database Engineer                                               21.0             \n",
       "Data Analyst                                                       348.0             "
      ]
     },
     "execution_count": 410,
     "metadata": {},
     "output_type": "execute_result"
    }
   ],
   "source": [
    "new_pivoted_df = pd.pivot_table(new_df,\n",
    "                         index=['Role'],\n",
    "                         columns=['Money'],\n",
    "                         values='Age',\n",
    "                         aggfunc='count')\n",
    "new_pivoted_df.head()"
   ]
  },
  {
   "cell_type": "code",
   "execution_count": null,
   "metadata": {},
   "outputs": [],
   "source": [
    "created a scatterplot of the lowest paying salary vs highest based on occupation/role"
   ]
  },
  {
   "cell_type": "code",
   "execution_count": 414,
   "metadata": {},
   "outputs": [
    {
     "data": {
      "text/plain": [
       "Text(0.5,1,'Scatterplot of Low Salary vs. High Salary')"
      ]
     },
     "execution_count": 414,
     "metadata": {},
     "output_type": "execute_result"
    },
    {
     "data": {
      "image/png": "[encoded data removed]",
      "text/plain": [
       "<Figure size 1000x600 with 1 Axes>"
      ]
     },
     "metadata": {},
     "output_type": "display_data"
    }
   ],
   "source": [
    "sns.set()\n",
    "\n",
    "fig, ax = plt.subplots()\n",
    "\n",
    "new_pivoted_df.plot(kind='scatter', \n",
    "            y='0-10,000',\n",
    "            x='90-100,000',\n",
    "            figsize=FIG_SIZE,\n",
    "            ax=ax)\n",
    "\n",
    "ax.set_title('Scatterplot of Low Salary vs. High Salary')"
   ]
  },
  {
   "cell_type": "code",
   "execution_count": 419,
   "metadata": {},
   "outputs": [
    {
     "data": {
      "text/plain": [
       "Role\n",
       "Business Analyst            31.0\n",
       "Chief Officer                9.0\n",
       "Consultant                  36.0\n",
       "DBA/Database Engineer        6.0\n",
       "Data Analyst                46.0\n",
       "Data Engineer               20.0\n",
       "Data Journalist              NaN\n",
       "Data Scientist             180.0\n",
       "Developer Advocate           4.0\n",
       "Manager                     30.0\n",
       "Marketing Analyst            5.0\n",
       "Other                       31.0\n",
       "Principal Investigator       6.0\n",
       "Product/Project Manager     22.0\n",
       "Research Assistant           2.0\n",
       "Research Scientist          34.0\n",
       "Salesperson                  2.0\n",
       "Software Engineer           81.0\n",
       "Statistician                10.0\n",
       "Student                     11.0\n",
       "Name: 90-100,000, dtype: float64"
      ]
     },
     "execution_count": 419,
     "metadata": {},
     "output_type": "execute_result"
    }
   ],
   "source": [
    "new_pivoted_df['90-100,000']"
   ]
  },
  {
   "cell_type": "markdown",
   "metadata": {},
   "source": [
    "Through our data visualisation, we were able to determine that \n",
    "-Python was the most used lanaguage\n",
    "-Survey is filled with majority Males\n",
    "-Most the of the individuals are students with 0-10k income or they prefer not to reveal sensative information\n",
    "-There is a high number of data scientist\n",
    "-Being a datascientist is one of the most lucrative ways to earn money as there is a high proprtion of them earnning in the high salary bracket of (90-100,000) as relative to the low salary bracket as seen in the scatter plot"
   ]
  },
  {
   "cell_type": "code",
   "execution_count": 442,
   "metadata": {},
   "outputs": [
    {
     "data": {
      "text/plain": [
       "<matplotlib.axes._subplots.AxesSubplot at 0x1a2a7be8d0>"
      ]
     },
     "execution_count": 442,
     "metadata": {},
     "output_type": "execute_result"
    },
    {
     "data": {
      "image/png": "[encoded data removed]",
      "text/plain": [
       "<Figure size 500x600 with 1 Axes>"
      ]
     },
     "metadata": {},
     "output_type": "display_data"
    }
   ],
   "source": [
    "\n",
    "new_df.boxplot('Duration','Gender',rot = 30,figsize=(5,6))"
   ]
  },
  {
   "cell_type": "markdown",
   "metadata": {},
   "source": [
    "Surprisingly, males take a longer time to decide and fill up the survey as compared to females, either they are indecisive or take more time and effort to fill up their survey"
   ]
  },
  {
   "cell_type": "code",
   "execution_count": 449,
   "metadata": {},
   "outputs": [
    {
     "data": {
      "image/png": "[encoded data removed]",
      "text/plain": [
       "<Figure size 1000x600 with 1 Axes>"
      ]
     },
     "metadata": {},
     "output_type": "display_data"
    }
   ],
   "source": [
    "\n",
    "sns.reset_orig()\n",
    "\n",
    "fig, ax = plt.subplots()\n",
    "\n",
    "new_pivoted_df['90-100,000'].plot(kind='box', ax=ax, figsize=FIG_SIZE)\n",
    "\n",
    "ax.set_ylabel(\"No.of people\")\n",
    "ax.set_title('Box plot of High Salary by count')\n",
    "\n",
    "plt.show()"
   ]
  },
  {
   "cell_type": "code",
   "execution_count": 450,
   "metadata": {},
   "outputs": [
    {
     "name": "stderr",
     "output_type": "stream",
     "text": [
      "/anaconda3/lib/python3.7/site-packages/numpy/lib/function_base.py:3652: RuntimeWarning: Invalid value encountered in percentile\n",
      "  interpolation=interpolation)\n"
     ]
    },
    {
     "data": {
      "text/plain": [
       "nan"
      ]
     },
     "execution_count": 450,
     "metadata": {},
     "output_type": "execute_result"
    }
   ],
   "source": [
    "new_pivoted_df['90-100,000'].dropna()\n",
    "\n",
    "def IQR(dist):\n",
    "    return np.percentile(dist, 75) - np.percentile(dist, 25)\n",
    "\n",
    "IQR(new_pivoted_df['90-100,000'])"
   ]
  },
  {
   "cell_type": "code",
   "execution_count": null,
   "metadata": {},
   "outputs": [],
   "source": [
    "Unable to drop an"
   ]
  }
 ],
 "metadata": {
  "kernelspec": {
   "display_name": "Python 3",
   "language": "python",
   "name": "python3"
  },
  "language_info": {
   "codemirror_mode": {
    "name": "ipython",
    "version": 3
   },
   "file_extension": ".py",
   "mimetype": "text/x-python",
   "name": "python",
   "nbconvert_exporter": "python",
   "pygments_lexer": "ipython3",
   "version": "3.7.0"
  }
 },
 "nbformat": 4,
 "nbformat_minor": 2
}
